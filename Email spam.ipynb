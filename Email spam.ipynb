{
  "nbformat": 4,
  "nbformat_minor": 0,
  "metadata": {
    "colab": {
      "provenance": [],
      "authorship_tag": "ABX9TyNuMHxCDjL2eowB6OtRYQ7d",
      "include_colab_link": true
    },
    "kernelspec": {
      "name": "python3",
      "display_name": "Python 3"
    },
    "language_info": {
      "name": "python"
    }
  },
  "cells": [
    {
      "cell_type": "markdown",
      "metadata": {
        "id": "view-in-github",
        "colab_type": "text"
      },
      "source": [
        "<a href=\"https://colab.research.google.com/github/abdullahj-06/Spam-Non-Spam-Email-predictor/blob/main/Email%20spam.ipynb\" target=\"_parent\"><img src=\"https://colab.research.google.com/assets/colab-badge.svg\" alt=\"Open In Colab\"/></a>"
      ]
    },
    {
      "cell_type": "code",
      "source": [],
      "metadata": {
        "id": "ZvTJsfGxTxkJ"
      },
      "execution_count": 2,
      "outputs": []
    },
    {
      "cell_type": "markdown",
      "source": [
        "Spam Email Predictor\n"
      ],
      "metadata": {
        "id": "Y96b4YwIutWa"
      }
    },
    {
      "cell_type": "code",
      "source": [
        "# importing required Libraries\n",
        "import numpy as np\n",
        "import pandas as pd\n",
        "from sklearn.model_selection import train_test_split\n",
        "from sklearn.feature_extraction.text import TfidfVectorizer\n",
        "from sklearn.linear_model import LogisticRegression\n",
        "from sklearn.metrics import accuracy_score"
      ],
      "metadata": {
        "id": "7ddZpLs-urB-"
      },
      "execution_count": null,
      "outputs": []
    },
    {
      "cell_type": "code",
      "source": [
        "# loading data set \n",
        "df = pd.read_csv('mail_data.csv')\n",
        "df2 = df.where((pd.notnull(df)),'')\n",
        "df2.head()"
      ],
      "metadata": {
        "id": "GIAYQvuNVB6G"
      },
      "execution_count": 4,
      "outputs": []
    },
    {
      "cell_type": "code",
      "source": [
        "# labl spam mail as 0 and ham email as 1\n",
        "df2.loc[df2['Category'] == 'spam','Category'] = 0\n",
        "df2.loc[df2['Category'] == 'ham', 'Category'] = 1\n"
      ],
      "metadata": {
        "id": "t57e3pZ7aErq"
      },
      "execution_count": 5,
      "outputs": []
    },
    {
      "cell_type": "code",
      "source": [
        "#separting the data as text and labels\n",
        "X = df2['Message']\n",
        "Y = df2['Category']\n"
      ],
      "metadata": {
        "id": "ctq0lgk-M4Dr"
      },
      "execution_count": 6,
      "outputs": []
    },
    {
      "cell_type": "code",
      "source": [
        "#spliting the data into training data and test data\n",
        "X_train,X_test,Y_train,Y_test = train_test_split(X,Y, test_size = 0.2, random_state = 3) # 20% data for testing\n",
        "\n",
        "# feature Extraction\n",
        "# Transform the text data to feature vectors that can be used as input to the logistic Regression\n",
        "feature_extraction = TfidfVectorizer(min_df =1, stop_words = 'english', lowercase = 'True')\n",
        "\n",
        "X_train_features = feature_extraction.fit_transform(X_train)\n",
        "X_test_features = feature_extraction.transform(X_test)\n",
        "\n",
        "# convert Y_train and Y_test values as integers\n",
        "Y_train = Y_train.astype('int')\n",
        "Y_test = Y_test.astype('int')\n"
      ],
      "metadata": {
        "id": "D0TirgtINQ5F"
      },
      "execution_count": 7,
      "outputs": []
    },
    {
      "cell_type": "markdown",
      "source": [
        "Training the model"
      ],
      "metadata": {
        "id": "e3k-IBfovFoB"
      }
    },
    {
      "cell_type": "code",
      "source": [
        "\n",
        "# Logistic Regression\n",
        "model = LogisticRegression()\n",
        "# Training the Logistic Regression model with training data\n",
        "model.fit(X_train_features,Y_train)"
      ],
      "metadata": {
        "id": "ESL66NPI9oOV"
      },
      "execution_count": null,
      "outputs": []
    },
    {
      "cell_type": "code",
      "source": [
        "#Evaluating the training data\n",
        "# prediction on training data\n",
        "prediction_on_training_data = model.predict(X_train_features)\n",
        "accuracy_on_training_data = accuracy_score(Y_train, prediction_on_training_data)\n",
        "print('Accuracy on training data:', accuracy_on_training_data)\n"
      ],
      "metadata": {
        "colab": {
          "base_uri": "https://localhost:8080/"
        },
        "id": "GPc8L8cI8hQF",
        "outputId": "c51c098a-0af7-4659-9d0f-ecbed83cb56c"
      },
      "execution_count": 11,
      "outputs": [
        {
          "output_type": "stream",
          "name": "stdout",
          "text": [
            "Accuracy on training data: 0.9670181736594121\n"
          ]
        }
      ]
    },
    {
      "cell_type": "code",
      "source": [
        "# prediction for test data\n",
        "prediction_on_test_data = model.predict(X_test_features)\n",
        "accuracy_on_test_data = accuracy_score(Y_test, prediction_on_test_data)\n",
        "print(\"Accuracy on test data:\", accuracy_on_test_data)\n",
        "\n"
      ],
      "metadata": {
        "colab": {
          "base_uri": "https://localhost:8080/"
        },
        "id": "WRLXxJe8JINy",
        "outputId": "e17d6826-8719-47c2-aa17-59f7d3caf2c2"
      },
      "execution_count": 12,
      "outputs": [
        {
          "output_type": "stream",
          "name": "stdout",
          "text": [
            "Accuracy on test data: 0.9659192825112107\n"
          ]
        }
      ]
    },
    {
      "cell_type": "code",
      "source": [
        "# Building a predictive system\n",
        "input_mail = [\"you have won 1000$, contact at this number.\"]\n",
        "# convert text to feature vectors\n",
        "input_data_features = feature_extraction.transform(input_mail)\n",
        "#making prediciton\n",
        "prediction = model.predict(input_data_features)\n",
        "print(prediction)\n",
        "if (prediction[0] == 1):\n",
        "  print('Ham mail')\n",
        "else:\n",
        "  print('Spam mail')\n"
      ],
      "metadata": {
        "id": "5_oNFs26Lpm8"
      },
      "execution_count": null,
      "outputs": []
    }
  ]
}